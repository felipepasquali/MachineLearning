{
 "cells": [
  {
   "cell_type": "code",
   "execution_count": 1,
   "metadata": {},
   "outputs": [],
   "source": [
    "# This Program is the solution for ex2 of Machine Learning\n",
    "# Perform Linear Regression on one variable dataset using gradient descent\n",
    "import pandas as pd\n",
    "import matplotlib.pyplot as plt\n",
    "import numpy as np\n",
    "from scipy.optimize import minimize"
   ]
  },
  {
   "cell_type": "code",
   "execution_count": 2,
   "metadata": {},
   "outputs": [],
   "source": [
    "def sigmoid(z):\n",
    "    return 1/(1+np.exp(-z))"
   ]
  },
  {
   "cell_type": "code",
   "execution_count": 3,
   "metadata": {},
   "outputs": [
    {
     "name": "stdout",
     "output_type": "stream",
     "text": [
      "[[1.00000000e+00 5.00000000e-01]\n",
      " [5.00000000e-01 3.72007598e-44]]\n",
      "[1.00000000e+00 5.00000000e-01 3.72007598e-44]\n"
     ]
    }
   ],
   "source": [
    "# Testing Sigmoid function\n",
    "# Should return:\n",
    "# Values Close to zero ---> for z -> -inf\n",
    "# Values close to one ---> for z  -> inf\n",
    "# Values of 0.5 ---> for z = 0\n",
    "a = np.array([[100, 0], [0, -100]])\n",
    "b = np.array([100, 0, -100])\n",
    "print(sigmoid(a))\n",
    "print(sigmoid(b))"
   ]
  },
  {
   "cell_type": "code",
   "execution_count": 4,
   "metadata": {},
   "outputs": [
    {
     "data": {
      "image/png": "[encoded data removed]",
      "text/plain": [
       "<Figure size 432x288 with 1 Axes>"
      ]
     },
     "metadata": {
      "needs_background": "light"
     },
     "output_type": "display_data"
    }
   ],
   "source": [
    "# Plot training data\n",
    "Data1 = pd.read_csv(\"data1ex2.txt\", header=None, names=['Exam1Score','Exam2Score','Label'])\n",
    "\n",
    "Admitted = Data1.loc[Data1['Label']==1].copy()\n",
    "NotAdmitted = Data1.loc[Data1['Label']==0].copy()\n",
    "\n",
    "plt.scatter(Admitted[['Exam1Score']],Admitted[['Exam2Score']],c='k',label='Admited',marker='x')\n",
    "plt.scatter(NotAdmitted[['Exam1Score']],NotAdmitted[['Exam2Score']],c='y',label='Not Admited')\n",
    "plt.title('Training Data')\n",
    "plt.legend()\n",
    "plt.show()\n"
   ]
  },
  {
   "cell_type": "markdown",
   "metadata": {},
   "source": [
    "Implementing the cost function for logistic regression\n",
    "\n",
    "The hypothesis of logistic regression is\n",
    "$$h_\\theta = g(\\theta^Tx) $$\n",
    "where $g$ is the sigmoid function defined below\n",
    "$$g(z) = \\frac{1}{1+e^{-z}}$$\n",
    "\n",
    "The cost function in compact form is given by\n",
    "$$J(\\theta) = \\frac{1}{m} \\sum_{i=1}^{m}[-y^{(i)}log(h_\\theta(x^{(i)})) - (1 - y^{(i)})log(1- h_\\theta(x^{(i)})) ] $$\n",
    "\n",
    "In the vectorized form the cost function becomes:\n",
    "\n",
    "$$h = g(\\theta^Tx) $$\n",
    "\n",
    "$$J(\\theta) = \\frac{1}{m} -y^Tlog(h) - (1 - y)^Tlog(1- h) $$\n",
    "\n"
   ]
  },
  {
   "cell_type": "code",
   "execution_count": 5,
   "metadata": {},
   "outputs": [],
   "source": [
    "# Implementing Cost Function and Gradient to be used with scipy.optimize\n",
    "def LogisticCostFunction(theta,Y,X):\n",
    "    # Cost function for logistic Regression\n",
    "    m = Y.size\n",
    "    h = sigmoid(X @ theta)\n",
    "    J = -(1/m)*(Y.T@np.log(h) + (1-Y).T@np.log(1-h))\n",
    "    return J"
   ]
  },
  {
   "cell_type": "markdown",
   "metadata": {},
   "source": [
    "The gradient for the objective function is \n",
    "$$ \\frac{\\partial J(\\theta)}{\\partial \\theta_j} = \\frac{1}{m} \\sum_{i=1}^{m}(h_\\theta(x^{(i)}) - y^{(i)})x_j^{(i)} $$.\n",
    "\n",
    "or in vector form\n",
    "\n",
    "$$ \\nabla J(\\theta) = \\frac{1}{m}X^T(h-y) $$ "
   ]
  },
  {
   "cell_type": "code",
   "execution_count": 6,
   "metadata": {},
   "outputs": [],
   "source": [
    "def LogisticRegrGradient(theta,Y,X):\n",
    "    # Gradient\n",
    "    m = Y.size\n",
    "    h = sigmoid(X @ theta)\n",
    "    G = (1/m)*(X.T@(h-Y))\n",
    "    return G.flatten()"
   ]
  },
  {
   "cell_type": "code",
   "execution_count": 7,
   "metadata": {},
   "outputs": [
    {
     "name": "stdout",
     "output_type": "stream",
     "text": [
      "Testing the Cost Funtion (for Theta (0,0,0) should return 0.693) 0.6931471805599452\n",
      "Testing Gradient...expected [-0.100, -12.009, -11.263]\n",
      "[ -0.1        -12.00921659 -11.26284221]\n"
     ]
    }
   ],
   "source": [
    "Dataxnp = Data1[['Exam1Score','Exam2Score']]\n",
    "Dataxnp.insert(0, 'Ones', 1.0)\n",
    "X = Dataxnp.to_numpy()\n",
    "Y = Data1['Label'].to_numpy()\n",
    "m,n = X.shape\n",
    "\n",
    "#Testing the Cost Function Value and Gradient\n",
    "theta = 0*np.ones((n))\n",
    "\n",
    "print('Testing the Cost Funtion (for Theta (0,0,0) should return 0.693)',LogisticCostFunction(theta,Y,X))\n",
    "print('Testing Gradient...expected [-0.100, -12.009, -11.263]',)\n",
    "print(LogisticRegrGradient(theta,Y,X))\n",
    "\n",
    "\n",
    "#The Value of 0.693 is obtained."
   ]
  },
  {
   "cell_type": "markdown",
   "metadata": {},
   "source": [
    "Now let's proceed to find the values of theta. Instead of gradient descent\n",
    "I decided to use the Newton-CG method, that is on the scipy.optimize package"
   ]
  },
  {
   "cell_type": "code",
   "execution_count": 13,
   "metadata": {},
   "outputs": [
    {
     "name": "stdout",
     "output_type": "stream",
     "text": [
      "Optimization terminated successfully.\n",
      "         Current function value: 0.203684\n",
      "         Iterations: 26\n",
      "         Function evaluations: 72\n",
      "         Gradient evaluations: 219\n",
      "         Hessian evaluations: 0\n",
      "Theta * values: [-24.06389621   0.19744767   0.19259835]\n"
     ]
    }
   ],
   "source": [
    "res = minimize(LogisticCostFunction, theta, args=(Y,X), method='Newton-CG', jac=LogisticRegrGradient,options={'disp': True,'maxiter':400})\n",
    "print('Theta * values:',res.x)"
   ]
  },
  {
   "cell_type": "code",
   "execution_count": 14,
   "metadata": {},
   "outputs": [
    {
     "data": {
      "image/png": "[encoded data removed]",
      "text/plain": [
       "<Figure size 432x288 with 1 Axes>"
      ]
     },
     "metadata": {
      "needs_background": "light"
     },
     "output_type": "display_data"
    }
   ],
   "source": [
    "# Plot the Data with decision boundary\n",
    "xnew = np.linspace(Data1['Exam1Score'].min(),Data1['Exam1Score'].max())\n",
    "ynew = -(1/res.x[2])*(res.x[0] + res.x[1]*xnew)\n",
    "\n",
    "plt.plot(xnew,ynew)\n",
    "plt.scatter(Admitted[['Exam1Score']],Admitted[['Exam2Score']],c='k',label='Admited',marker='x')\n",
    "plt.scatter(NotAdmitted[['Exam1Score']],NotAdmitted[['Exam2Score']],c='y',label='Not Admited')\n",
    "plt.title('Training Data and decision boundaries')\n",
    "plt.legend()\n",
    "plt.show()"
   ]
  },
  {
   "cell_type": "code",
   "execution_count": 15,
   "metadata": {},
   "outputs": [
    {
     "name": "stdout",
     "output_type": "stream",
     "text": [
      "The class is: 1\n",
      "Probability: 0.767118041906793\n"
     ]
    }
   ],
   "source": [
    "# Create a function to predict values.\n",
    "\n",
    "def Predict(theta,x,y):\n",
    "    xn = np.array([1, x, y])\n",
    "    h = sigmoid(theta.T@xn)\n",
    "    if h>=0.5:\n",
    "        c = 1\n",
    "    if h<0.5:\n",
    "        c= 0\n",
    "    return c,h\n",
    "\n",
    "classif,probability = Predict(res.x,45.,85.)\n",
    "print('The class is:',classif)\n",
    "print('Probability:',probability)"
   ]
  },
  {
   "cell_type": "code",
   "execution_count": null,
   "metadata": {},
   "outputs": [],
   "source": []
  }
 ],
 "metadata": {
  "kernelspec": {
   "display_name": "Python 3",
   "language": "python",
   "name": "python3"
  },
  "language_info": {
   "codemirror_mode": {
    "name": "ipython",
    "version": 3
   },
   "file_extension": ".py",
   "mimetype": "text/x-python",
   "name": "python",
   "nbconvert_exporter": "python",
   "pygments_lexer": "ipython3",
   "version": "3.7.3"
  }
 },
 "nbformat": 4,
 "nbformat_minor": 2
}
