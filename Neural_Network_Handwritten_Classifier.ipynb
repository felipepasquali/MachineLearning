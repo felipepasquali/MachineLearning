{
 "cells": [
  {
   "cell_type": "code",
   "execution_count": 12,
   "metadata": {},
   "outputs": [],
   "source": [
    "# Exercise to classify handwriten digits using Neural Network\n",
    "# The implementation below is far from \"production level\" and it is just for learning purposes\n",
    "%matplotlib inline\n",
    "import matplotlib.pyplot as plt\n",
    "import numpy as np\n",
    "import scipy.io as sio\n",
    "from scipy.optimize import minimize\n"
   ]
  },
  {
   "cell_type": "markdown",
   "metadata": {},
   "source": [
    "**This content was summarized from Andrew Ng's lectures"
   ]
  },
  {
   "cell_type": "markdown",
   "metadata": {},
   "source": [
    "## The Neural Network\n",
    "The input layer of the Neural Networ is given by X:\n",
    "$$ X := \\text{input layer} $$\n",
    "\n",
    "The neural network is described by the terms below:\n",
    "$$a_i^{(j)} := \\text{activation of unit } i \\text{ in layer } j $$\n",
    "$$\\theta^{(j)} := \\text{matrix of weights controlling function mapping from layer } j \\text{ to layer } j+1 $$\n",
    "The activation function is demonstrated:\n",
    "$$ a_1^{(2)} = g(\\theta_{10}^{(1)}X_0 + \\theta_{11}^{(1)}X_1 + \\theta_{12}^{(1)}X_2 + \\theta_{13}^{(1)}X_3) $$\n",
    "and the output layer is\n",
    "$$ h_\\Theta(x) = a_1^{(3)} = g(\\theta_{10}^{(2)}a_0^{(2)} + \\theta_{11}^{(2)}a_1^{(2)} + \\theta_{12}^{(2)}a_2^{(2)} + \\theta_{13}^{(2)}a_3^{(2)}) $$\n",
    "\n",
    "The sigmoid function defined below\n",
    "$$g(z) = \\frac{1}{1+e^{-z}}$$\n",
    "and its gradient is given as:\n",
    "$$ \\frac{\\partial g(z)}{\\partial z} = g(z)(1-g(z)) $$\n",
    "\n",
    "To obtain an evaluation of the hypothesis FORWARD PROPAGATION is performed. The forward propagation is described below:\n",
    "\n",
    "where $z_1^{(2)}$ is defined as:\n",
    "$$z_1^{(2)} = \\theta_{10}^{(1)}X_0 + \\theta_{11}^{(1)}X_1 + \\theta_{12}^{(1)}X_2 + \\theta_{13}^{(1)}X_3)$$\n",
    "and \n",
    "$$ z^{(2)} = \\Theta^{(1)}a^{(1)}$$\n",
    "\n",
    "$$ h_\\Theta(x) = a^{(3)} = g(z^{(3)})$$ \n",
    "$$ z^{(3)} = \\Theta^{(2)}a^{(2)}$$\n",
    "\n",
    "\n"
   ]
  },
  {
   "cell_type": "markdown",
   "metadata": {},
   "source": [
    "## Neural Network from Andrew Ng\n",
    "![alt text](NeuralNetAndrewNg.png \"Neural Net\")"
   ]
  },
  {
   "cell_type": "markdown",
   "metadata": {},
   "source": [
    "## Backpropagation from Andrew Ng Coursera course\n",
    "\n",
    "Neural Network Cost Function \n",
    "\n",
    "$$ J(\\Theta) = -\\frac{1}{m} \\left[\\sum_{i=1}^{m}\\sum_{k=1}^{K} y_k^{(i)}log (h_\\Theta(x^{(i)}))_k  + (1-y_k^{(i)})log(1-(h_\\Theta(x^{(i)}))_k ) \\right] + \\frac{\\lambda}{2m} \\sum_{l=1}^{L-1}\\sum_{i=1}^{s_l}\\sum_{j=1}^{s_l+1}(\\Theta_{ji}^{(l)})^2 $$\n",
    "\n",
    "where,\n",
    "$$ L = \\text{number of layers in the network}$$\n",
    "\n",
    "$$s_l = \\text{number of units in layer }l $$\n",
    "\n",
    "$$ K = \\text{number of total outputs,} k  $$\n",
    "\n",
    "To train the network we aim to minimize the cost function, such as:\n",
    "$$ \\min_{\\Theta}J(\\Theta)$$\n",
    "\n",
    "for that we need to compute the gradient,\n",
    "\n",
    "$$ \\frac{\\partial}{\\partial \\Theta_{ij}^{(l)}} J(\\Theta) $$\n",
    "\n",
    "The gradient of the cost function $J(\\Theta)$ is used to determine the search direction when training the network. The gradient is computed using the Backpropagration Algorithm. The following image describes the algorithm.\n",
    "\n",
    "\n",
    "![alt text](NN-BackProp_AndrewNg.png \"Neural Net\")\n"
   ]
  },
  {
   "cell_type": "markdown",
   "metadata": {},
   "source": [
    "## Finite Difference Validation\n",
    "\n",
    "The validation is conducted to check if the implementation of backpropagation is correct. After that the Numerical checking is disabled due to its computational cost.\n",
    "\n",
    "1. Compute gradient of cost function using finite difference method\n",
    "$$\\frac{d}{d\\theta}J(\\theta) \\approx \\frac{ J(\\theta + \\epsilon) - J(\\theta - \\epsilon) } {2\\epsilon} $$\n",
    "Take $\\epsilon$ as a small value. For example:\n",
    "$$ \\epsilon = 10^{-4} $$\n",
    "\n",
    "2.Verify if backpropagation result checks with finite difference. Such as:\n",
    "$$ D \\approx \\frac{d}{d\\theta}J(\\theta)  $$"
   ]
  },
  {
   "cell_type": "markdown",
   "metadata": {},
   "source": [
    "## Training the Neural Network\n",
    "1. Randomly initialize the weights $\\Theta$\n",
    "2. Using gradient descent \\\n",
    "    for each sample in the training set (1,...,m) \\\n",
    "    2.1 Do Forward propagation followed by backpropagation to find $J(\\Theta)$ and its gradient."
   ]
  },
  {
   "cell_type": "code",
   "execution_count": 23,
   "metadata": {},
   "outputs": [],
   "source": [
    "def sigmoid(z):\n",
    "    return 1/(1+np.exp(-z))\n",
    "\n",
    "def GradSigmoid(z):\n",
    "#     returns the gradient of sigmoid(z)\n",
    "    return sigmoid(z)*(1-sigmoid(z))\n",
    "\n",
    "def RandomInitWeights(SizeIn,SizeOut,EpsInit=0.12):\n",
    "    Weights = np.random.rand(SizeOut,1+SizeIn) * (2*EpsInit) - EpsInit\n",
    "    return Weights\n",
    "\n",
    "class TrainingSet:\n",
    "    def __init__(self, dataset, WeightsData, CheckGradient=False):\n",
    "        # dataset is string with .mat raw data ('data1ex4')\n",
    "        # WeightsData: string .mat file w/ already trained Thetas ('weights-ex4')\n",
    "        self.CheckGradient = CheckGradient\n",
    "        if not CheckGradient:\n",
    "            self.rawdata = sio.loadmat(dataset)\n",
    "            self.weights = sio.loadmat(WeightsData)\n",
    "            self.X = self.rawdata['X']\n",
    "            self.y = self.rawdata['y']\n",
    "            self.Theta1,self.Theta2 = self.weights['Theta1'], self.weights['Theta2']\n",
    "        \n",
    "        if CheckGradient:\n",
    "            InputLayerSz = 3\n",
    "            HiddenLayerSz = 5\n",
    "            NumLabels = 3\n",
    "            m = 5\n",
    "            self.X = RandomInitWeights(InputLayerSz-1,m)\n",
    "            self.y = 1 + np.mod(np.arange(1,m+1),NumLabels).reshape((-1,1))\n",
    "\n",
    "\n",
    "    def Plot(self):\n",
    "        if not self.CheckGradient:\n",
    "            plt.figure(figsize=(10, 10))\n",
    "            fig = plt.figure()\n",
    "            fig.subplots_adjust(hspace=0.05, wspace=0.025)\n",
    "            for i in range(1, 101):\n",
    "                randPlot = np.random.randint(1, 5000)\n",
    "                ax = fig.add_subplot(10, 10, i)\n",
    "                plt.imshow(self.X[randPlot,:].reshape(20,20), cmap='gray', extent=[0, 1, 0, 1])\n",
    "                ax.axis('off')\n",
    "    \n",
    "class NeuralNetwork:\n",
    "    # Trains NN with 1 hidden layers\n",
    "    def __init__(self, TrainingSet, HiddenLayerSz, lambd,PreTrain=False):\n",
    "        self.TrainedTh1 = []\n",
    "        self.TrainedTh2 = []\n",
    "        self.TrgSet = TrainingSet\n",
    "        self.InputLayerSz = self.TrgSet.X.shape[1]\n",
    "        self.HiddenLayerSz = HiddenLayerSz\n",
    "        self.NumLabels = np.size(np.unique(self.TrgSet.y))\n",
    "        self.lambd = lambd\n",
    "        self.Xbias = np.insert(self.TrgSet.X, 0, 1, axis=1)\n",
    "        self.m,self.n = self.Xbias.shape\n",
    "        self.YVec = np.zeros((self.m,self.NumLabels)) \n",
    "        for i in range(self.YVec.shape[0]): self.YVec[i,self.TrgSet.y[i]-1] = 1\n",
    "        \n",
    "        if PreTrain == False:\n",
    "            print('Not Pre Train')\n",
    "            self.Theta1 = RandomInitWeights(self.InputLayerSz,self.HiddenLayerSz)\n",
    "            self.Theta2 = RandomInitWeights(self.HiddenLayerSz,self.NumLabels)\n",
    "        elif PreTrain == True:\n",
    "            print('Pre Train')\n",
    "            self.Theta1 = TrainingSet.Theta1\n",
    "            self.Theta2 = TrainingSet.Theta2\n",
    "        \n",
    "        self.NNParams = np.concatenate((self.Theta1.flatten(),self.Theta2.flatten()))\n",
    "        \n",
    "    def UnrollParams(self,NNParams):\n",
    "        Theta1 = np.reshape(NNParams[0:(self.HiddenLayerSz*(self.InputLayerSz+1))],\n",
    "                            (self.HiddenLayerSz,(self.InputLayerSz+1)))\n",
    "        Theta2 = np.reshape(NNParams[((self.HiddenLayerSz*(self.InputLayerSz+1))):],\n",
    "                           (self.NumLabels,(self.HiddenLayerSz+1)))\n",
    "        return Theta1,Theta2\n",
    "    \n",
    "    def CostFunctionReg(self,*args):\n",
    "        if self.NumLabels<3:\n",
    "            print('Error: Num of Labels is smaller than 3')\n",
    "            \n",
    "        if not args:\n",
    "            NNParams = self.NNParams\n",
    "        if args:\n",
    "            NNParams = args[0]\n",
    "            \n",
    "        Theta1,Theta2 = self.UnrollParams(NNParams)\n",
    "        \n",
    "        z2 = self.Xbias @ Theta1.T\n",
    "        a2 = sigmoid(z2)\n",
    "        a2 = np.insert(a2, 0, 1, axis=1)\n",
    "        z3 = a2 @ Theta2.T\n",
    "        h = sigmoid(z3) # also is a3\n",
    "        J = -(1/self.m)* np.sum(np.sum(self.YVec*np.log(h) + (1-self.YVec)*np.log(1-h))) + \\\n",
    "        (self.lambd/(2.0*self.m))*(np.sum(np.sum(Theta1[:,1:]**2)) + \\\n",
    "                                   np.sum(np.sum(Theta2[:,1:]**2)))\n",
    "        return J\n",
    "\n",
    "    def Backprop(self,NNParams):\n",
    "        \n",
    "        Theta1,Theta2 = self.UnrollParams(NNParams)\n",
    "        D1, D2 = np.zeros(Theta1.shape), np.zeros(Theta2.shape)\n",
    "        \n",
    "        for i in range(0,self.m):\n",
    "            a1 = self.Xbias[i,:].reshape((-1,1))\n",
    "            # Feed Forward Pass\n",
    "            z2 = Theta1 @ a1 \n",
    "            a2 = sigmoid(z2)\n",
    "            a2 = np.insert(a2, 0, 1, axis=0)\n",
    "            z3 = Theta2 @ a2 \n",
    "            h = sigmoid(z3)\n",
    "            delta3 = h-self.YVec[i,:].reshape((-1,1))\n",
    "            delta2 = (Theta2[:,1:].T@delta3)*GradSigmoid(z2)\n",
    "            D1 = D1 + delta2@a1.T\n",
    "            D2 = D2 + delta3@a2.T\n",
    "        \n",
    "        D1 = (1/self.m)*D1\n",
    "        D2 = (1/self.m)*D2\n",
    "        D1[:,1:] += (self.lambd/self.m)*Theta1[:,1:]\n",
    "        D2[:,1:] += (self.lambd/self.m)*Theta2[:,1:]\n",
    "        return np.concatenate((D1.flatten(),D2.flatten()))\n",
    "\n",
    "    def Train(self):\n",
    "        res = minimize(self.CostFunctionReg, self.NNParams, method='CG',\n",
    "                       jac=self.Backprop,\n",
    "                       options={'disp': True,'maxiter':50})\n",
    "        self.TrainedParams = res.x\n",
    "        \n",
    "    def PredictAccuracy(self,display=False):\n",
    "        Theta1,Theta2 = self.UnrollParams(self.TrainedParams)\n",
    "        Pred = np.zeros(self.m)\n",
    "        for i in range(0,self.m):\n",
    "            a1 = self.Xbias[i,:].reshape((-1,1))\n",
    "            # Feed Forward Pass\n",
    "            z2 = Theta1 @ a1 \n",
    "            a2 = sigmoid(z2)\n",
    "            a2 = np.insert(a2, 0, 1, axis=0)\n",
    "            z3 = Theta2 @ a2 \n",
    "            h = sigmoid(z3)\n",
    "            prob = np.nanmax(h)\n",
    "            Pred[i] = np.argmax(h)+1\n",
    "        Accuracy = np.mean(np.equal(self.TrgSet.y.flatten(),Pred))\n",
    "        if display:\n",
    "            print('Accuracy is:', Accuracy*100.0,'%')\n",
    "        return Accuracy,Pred\n",
    "            \n",
    "            \n",
    "    def FiniteDiferenceGrad(self,eps=1e-6):\n",
    "        print(eps)\n",
    "        # Use this function only for validation of the Backprop (computationally expensive).\n",
    "        Gradient = np.empty_like(self.NNParams)\n",
    "        for j in range(self.NNParams.shape[0]):\n",
    "            ThetaPlus = np.copy(self.NNParams)\n",
    "            ThetaMinus = np.copy(self.NNParams)\n",
    "            ThetaPlus[j] += eps\n",
    "            ThetaMinus[j] -= eps\n",
    "            JPlus = self.CostFunctionReg(ThetaPlus)\n",
    "            JMinus = self.CostFunctionReg(ThetaMinus)\n",
    "            Gradient[j] = (JPlus - JMinus)/(2.0*eps)\n",
    "        return Gradient\n",
    "\n",
    "    def TestGradient(self, debug=False):\n",
    "        Gradient = self.Backprop(self.NNParams)\n",
    "        NumGradient = self.FiniteDiferenceGrad()\n",
    "        if debug:\n",
    "            print(np.hstack((Gradient.reshape((-1,1)),NumGradient.reshape(-1,1))))\n",
    "        Diff = np.linalg.norm(NumGradient-Gradient)/np.linalg.norm(NumGradient+Gradient)\n",
    "        print('Diff: ',Diff, 'Value must be very small')"
   ]
  },
  {
   "cell_type": "code",
   "execution_count": 24,
   "metadata": {},
   "outputs": [
    {
     "data": {
      "text/plain": [
       "<Figure size 720x720 with 0 Axes>"
      ]
     },
     "metadata": {},
     "output_type": "display_data"
    },
    {
     "data": {
      "image/png": "[encoded data removed]",
      "text/plain": [
       "<Figure size 432x288 with 100 Axes>"
      ]
     },
     "metadata": {
      "needs_background": "light"
     },
     "output_type": "display_data"
    }
   ],
   "source": [
    "# Load the training set\n",
    "Trng = TrainingSet('data1ex4','weights-ex4')\n",
    "Trng.Plot()"
   ]
  },
  {
   "cell_type": "code",
   "execution_count": 25,
   "metadata": {},
   "outputs": [
    {
     "name": "stdout",
     "output_type": "stream",
     "text": [
      "Pre Train\n",
      "Regularized Cost Function: 0.38376985909092365\n"
     ]
    }
   ],
   "source": [
    "# Test Cost Function Values with pre-trained Weights\n",
    "HiddenLayerSz = 25\n",
    "lambd = 1\n",
    "NN = NeuralNetwork(Trng,HiddenLayerSz,lambd,PreTrain=True)\n",
    "print('Regularized Cost Function:', NN.CostFunctionReg())"
   ]
  },
  {
   "cell_type": "code",
   "execution_count": 26,
   "metadata": {},
   "outputs": [
    {
     "name": "stdout",
     "output_type": "stream",
     "text": [
      "Not Pre Train\n",
      "1e-06\n",
      "Diff:  9.173598325946492e-10 Value must be very small\n"
     ]
    }
   ],
   "source": [
    "# Test the backpropagation algorithm against the Numerical Gradient\n",
    "# A simplified neural network is used by turning on the CheckGradient.\n",
    "Trng2 = TrainingSet(' ',' ',CheckGradient=True)\n",
    "# Trng2 = TrainingSet('data1ex4','weights-ex4',CheckGradient=False)\n",
    "HiddenLayerSz = 5\n",
    "lambd = 3.0\n",
    "NN2 = NeuralNetwork(Trng2,HiddenLayerSz,lambd)\n",
    "NN2.TestGradient()"
   ]
  },
  {
   "cell_type": "code",
   "execution_count": 27,
   "metadata": {},
   "outputs": [
    {
     "name": "stdout",
     "output_type": "stream",
     "text": [
      "Not Pre Train\n",
      "Warning: Maximum number of iterations has been exceeded.\n",
      "         Current function value: 0.643727\n",
      "         Iterations: 50\n",
      "         Function evaluations: 100\n",
      "         Gradient evaluations: 100\n",
      "Accuracy is: 95.74000000000001 %\n",
      "[10. 10. 10. ...  9.  9.  9.]\n"
     ]
    }
   ],
   "source": [
    "# Test Accuracy\n",
    "HiddenLayerSz = 25\n",
    "lambd = 3\n",
    "NN = NeuralNetwork(Trng,HiddenLayerSz,lambd,PreTrain=False)\n",
    "NN.Train()\n",
    "Accuracy, Pred = NN.PredictAccuracy(display=True)\n",
    "print(Pred)"
   ]
  },
  {
   "cell_type": "code",
   "execution_count": null,
   "metadata": {},
   "outputs": [],
   "source": []
  }
 ],
 "metadata": {
  "kernelspec": {
   "display_name": "Python 3",
   "language": "python",
   "name": "python3"
  },
  "language_info": {
   "codemirror_mode": {
    "name": "ipython",
    "version": 3
   },
   "file_extension": ".py",
   "mimetype": "text/x-python",
   "name": "python",
   "nbconvert_exporter": "python",
   "pygments_lexer": "ipython3",
   "version": "3.7.3"
  }
 },
 "nbformat": 4,
 "nbformat_minor": 2
}
